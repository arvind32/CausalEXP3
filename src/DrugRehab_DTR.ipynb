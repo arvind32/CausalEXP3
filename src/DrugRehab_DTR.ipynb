{
  "nbformat": 4,
  "nbformat_minor": 0,
  "metadata": {
    "colab": {
      "name": "DrugRehab_DTR.ipynb",
      "provenance": []
    },
    "kernelspec": {
      "name": "python3",
      "display_name": "Python 3"
    },
    "language_info": {
      "name": "python"
    },
    "accelerator": "TPU"
  },
  "cells": [
    {
      "cell_type": "code",
      "execution_count": 2,
      "metadata": {
        "id": "NOecCKvETf8z"
      },
      "outputs": [],
      "source": [
        "from tqdm import tqdm\n",
        "import numpy as np\n",
        "from scipy.stats import bernoulli\n",
        "import matplotlib.pyplot as plt"
      ]
    },
    {
      "cell_type": "markdown",
      "source": [
        "###SCM of the Rehab DTR under policy intervention"
      ],
      "metadata": {
        "id": "ClDK9LZ1Trtf"
      }
    },
    {
      "cell_type": "code",
      "source": [
        "# global policy mapping tensors\n",
        "\n",
        "NO_OF_POLICIES = (2**2) * (3**(4))\n",
        "\n",
        "b_tensor = np.array([[0,0],\n",
        "                     [0,1],\n",
        "                     [1,0],\n",
        "                     [1,1]])\n",
        "\n",
        "d_tensor = np.zeros((81,2,2))\n",
        "for pol in range(81):\n",
        "  temp = pol\n",
        "  digits = np.zeros((4,))\n",
        "  for i in range(4):\n",
        "    digits[3-i] = temp%3\n",
        "    temp = int(temp/3)\n",
        "  digits = np.reshape(digits,newshape=(2,2))\n",
        "  d_tensor[pol] = digits\n",
        "\n",
        "# global transition probabilities\n",
        "\n",
        "f_tensor1 = np.array([[0.5011, 0.7787, 0.755],\n",
        "                       [0.5602, 0.3759, 0.6166]])\n",
        "\n",
        "f_tensor2 = np.array([[0.5315, 0.3952, 0.5807],\n",
        "                       [0.4102, 0.685, 0.8256]])\n",
        "\n",
        "\n",
        "def rehab_dtr1(pi = None):\n",
        "  '''\n",
        "  Runs an instance of the cancer DTR, under intervention using a policy pi\n",
        "  SCM for first half of instances\n",
        "\n",
        "  INPUT\n",
        "  pi (int, 0-323): the policy index of the intervention\n",
        "\n",
        "  OUTPUT\n",
        "  a (int, 0-1): value of A for one instance under pi\n",
        "  b (int, 0-1): value of B for one instance under pi\n",
        "  c (int, 0-1): value of C for one instance under pi\n",
        "  d (int, 0-2): value of D for one instance under pi\n",
        "  e (int, 0-1): value of F for one instance under pi\n",
        "  f (int, 0-1): value of F for one instance under pi  \n",
        "  '''\n",
        "\n",
        "  if pi not in np.arange(NO_OF_POLICIES):\n",
        "    print(\"ERROR: pi should be an integer from 0-323\")\n",
        "    return\n",
        "  \n",
        "  # getting a\n",
        "  a = bernoulli.rvs(p=0.5621)\n",
        "\n",
        "  # mapping pi to get b\n",
        "  pi_b = int(pi/81)\n",
        "  b = b_tensor[pi_b][a]\n",
        "\n",
        "  # getting c\n",
        "  if a == 0:\n",
        "    if b == 0:\n",
        "      c = bernoulli.rvs(p=0.199)\n",
        "    else:\n",
        "      c = bernoulli.rvs(p=0.6863)\n",
        "  else:\n",
        "    if b == 0:\n",
        "      c = bernoulli.rvs(p=0.3362)\n",
        "    else:\n",
        "      c = bernoulli.rvs(p=0.8121)\n",
        "  \n",
        "  # getting e\n",
        "  if b == 0:\n",
        "    e = bernoulli.rvs(p=0.18)\n",
        "  else:\n",
        "    e = bernoulli.rvs(p=0.8357)\n",
        "\n",
        "  # mapping pi to get d\n",
        "  pi_d = pi%81\n",
        "  d = d_tensor[pi_d][c][e]\n",
        "  d = int(d)\n",
        "\n",
        "  # getting f\n",
        "  f = bernoulli.rvs(p = f_tensor1[b][d])\n",
        "\n",
        "  return a,b,c,d,e,f\n",
        "\n",
        "\n",
        "def rehab_dtr2(pi = None):\n",
        "  '''\n",
        "  Runs an instance of the cancer DTR, under intervention using a policy pi\n",
        "  SCM for second half of instances\n",
        "\n",
        "  INPUT\n",
        "  pi (int, 0-323): the policy index of the intervention\n",
        "\n",
        "  OUTPUT\n",
        "  a (int, 0-1): value of A for one instance under pi\n",
        "  b (int, 0-1): value of B for one instance under pi\n",
        "  c (int, 0-1): value of C for one instance under pi\n",
        "  d (int, 0-2): value of D for one instance under pi\n",
        "  e (int, 0-1): value of F for one instance under pi\n",
        "  f (int, 0-1): value of F for one instance under pi  \n",
        "  '''\n",
        "\n",
        "  if pi not in np.arange(NO_OF_POLICIES):\n",
        "    print(\"ERROR: pi should be an integer from 0-323\")\n",
        "    return\n",
        "  \n",
        "  # getting a\n",
        "  a = bernoulli.rvs(p=0.2659)\n",
        "\n",
        "  # mapping pi to get b\n",
        "  pi_b = int(pi/81)\n",
        "  b = b_tensor[pi_b][a]\n",
        "\n",
        "  # getting c\n",
        "  if a == 0:\n",
        "    if b == 0:\n",
        "      c = bernoulli.rvs(p=0.5643)\n",
        "    else:\n",
        "      c = bernoulli.rvs(p=0.2397)\n",
        "  else:\n",
        "    if b == 0:\n",
        "      c = bernoulli.rvs(p=0.7622)\n",
        "    else:\n",
        "      c = bernoulli.rvs(p=0.4965)\n",
        "  \n",
        "  # getting e\n",
        "  if b == 0:\n",
        "    e = bernoulli.rvs(p=0.7304)\n",
        "  else:\n",
        "    e = bernoulli.rvs(p=0.3135)\n",
        "\n",
        "  # mapping pi to get d\n",
        "  pi_d = pi%81\n",
        "  d = d_tensor[pi_d][c][e]\n",
        "  d = int(d)\n",
        "\n",
        "  # getting f\n",
        "  f = bernoulli.rvs(p = f_tensor2[b][d])\n",
        "\n",
        "  return a,b,c,d,e,f"
      ],
      "metadata": {
        "id": "f8ZFZqJATohT"
      },
      "execution_count": 4,
      "outputs": []
    },
    {
      "cell_type": "code",
      "source": [
        "(f_tensor1+f_tensor2)/2"
      ],
      "metadata": {
        "colab": {
          "base_uri": "https://localhost:8080/"
        },
        "id": "c9oBcswNV-Qy",
        "outputId": "b40743da-43a3-452a-d21a-39fc43bd3164"
      },
      "execution_count": 7,
      "outputs": [
        {
          "output_type": "execute_result",
          "data": {
            "text/plain": [
              "array([[0.5163 , 0.58695, 0.66785],\n",
              "       [0.4852 , 0.53045, 0.7211 ]])"
            ]
          },
          "metadata": {},
          "execution_count": 7
        }
      ]
    },
    {
      "cell_type": "markdown",
      "source": [
        "### Naive EXP3 Algorithm"
      ],
      "metadata": {
        "id": "wEzCgX4ynanl"
      }
    },
    {
      "cell_type": "code",
      "source": [
        "def naive_exp3(T = 500, eta = None):\n",
        "  '''\n",
        "  Plays Naive EXP3 for T episodes, with 100 overall runs\n",
        "\n",
        "  INPUT:\n",
        "  T (int, >=500): number of episodes; default 500\n",
        "  eta (float, > 0): learning rate; default 1/T\n",
        "\n",
        "  OUTPUT:\n",
        "  regret: array of reget every 500 episodes, averaged over 100 runs\n",
        "  cumulative_regret: array of cumulative regret every 500 episodes, avg. over 100 runs\n",
        "  reward: array of reward every 500 episodes, avg. over 100 runs\n",
        "  '''\n",
        " \n",
        "  # initializations\n",
        "\n",
        "  if T < 500:\n",
        "    print(\"ERROR: T needs to be at least 500\")\n",
        "    return\n",
        "  if eta == None:\n",
        "    eta = 1/T\n",
        "  if eta <= 0.0:\n",
        "    print(\"ERROR: eta needs to be > 0.0\") \n",
        "  RUNS = 50\n",
        "  step = 500\n",
        "  data_points = int(T/step)+1\n",
        "  regret = np.zeros((RUNS,data_points))\n",
        "  cumulative_regret = np.zeros((RUNS,data_points))\n",
        "  reward = np.zeros((RUNS,data_points))\n",
        "\n",
        "  # main loop\n",
        "   \n",
        "  for run in tqdm(range(RUNS)):\n",
        "    W = np.ones((NO_OF_POLICIES,))\n",
        "    track_regret = 0\n",
        "\n",
        "    for t in range(T):\n",
        "      # normalize weights\n",
        "      P = W/W.sum()\n",
        "\n",
        "      # sample a policy\n",
        "      pi = np.random.multinomial(1,P) @ np.arange(NO_OF_POLICIES)\n",
        "\n",
        "      # play policy arm on DTR\n",
        "      if t < int(T/2):\n",
        "        _,_,_,_,_,f = rehab_dtr1(pi)\n",
        "      else:\n",
        "        _,_,_,_,_,f = rehab_dtr2(pi)\n",
        "\n",
        "      # weight updates\n",
        "      loss = 1-f\n",
        "      loss_unbiased = loss/P[pi]\n",
        "      W[pi] = W[pi]*np.exp(-eta*loss_unbiased)\n",
        "\n",
        "      # tracking reward\n",
        "      track_regret = track_regret + 0.7211 - f\n",
        "      if int(t%step) == 0:\n",
        "        regret[run][int(t/step)]             = 0.7211 - f\n",
        "        cumulative_regret[run][int(t/step)]  = track_regret\n",
        "        reward[run][int(t/step)]             = f\n",
        "\n",
        "  return regret, cumulative_regret, reward"
      ],
      "metadata": {
        "id": "KAihoiBCgT-m"
      },
      "execution_count": 34,
      "outputs": []
    },
    {
      "cell_type": "code",
      "source": [
        "regret1, cumulative_regret1, reward1 = naive_exp3(T=10001)"
      ],
      "metadata": {
        "colab": {
          "base_uri": "https://localhost:8080/"
        },
        "id": "GRGxKbwfxPo6",
        "outputId": "bfe79f9b-22da-46f2-d66e-e4b08518effc"
      },
      "execution_count": 35,
      "outputs": [
        {
          "output_type": "stream",
          "name": "stderr",
          "text": [
            "100%|██████████| 50/50 [02:08<00:00,  2.57s/it]\n"
          ]
        }
      ]
    },
    {
      "cell_type": "markdown",
      "source": [
        "### CausalEXP3 algorithm"
      ],
      "metadata": {
        "id": "vBdBGSerNuoH"
      }
    },
    {
      "cell_type": "code",
      "source": [
        "# estimate update function\n",
        "\n",
        "def update(a,b,c,e,t):\n",
        "  global hat_a\n",
        "  global hat_b\n",
        "  global hat_a_b\n",
        "  global hat_c\n",
        "  global hat_e\n",
        "  hat_a[a] += 1\n",
        "  hat_a_b[a][b] += 1\n",
        "  hat_b[0][b] += 1\n",
        "  hat_c[a][b][c] += 1\n",
        "  hat_e[b][e] += 1\n",
        "\n",
        "  global p_hat_a\n",
        "  global p_hat_c\n",
        "  global p_hat_e\n",
        "  p_hat_c = hat_c\n",
        "  \n",
        "  p_hat_a = hat_a/(t+1) # update P_hat(a)\n",
        "  \n",
        "  for a in [0,1]:\n",
        "    for b in [0,1]:\n",
        "      for c in [0,1]:\n",
        "        p_hat_c[a][b][c] = hat_c[a][b][c]/max(1,hat_a_b[a][b]) # update P_hat(c|do(b),a)\n",
        "\n",
        "  temp = hat_b.T == 0 \n",
        "  temp = temp + hat_b.T # max{1,#b}\n",
        "  p_hat_e = hat_e/temp # update P_hat(e|do(b))\n",
        "\n",
        "\n",
        "def estimate_loss(pi,t,T):\n",
        "  sum = 0\n",
        "  for a in [0,1]: # loop over a\n",
        "    pi_b = int(pi/81)\n",
        "    b = b_tensor[pi_b][a] # get b from a\n",
        "    for c in [0,1]: # loop over c\n",
        "      for e in [0,1]: # loop over e\n",
        "        pi_d = pi%81\n",
        "        d = d_tensor[pi_d][c][e]\n",
        "        d = int(d) # get d from c,e\n",
        "\n",
        "        if t < T/2:\n",
        "          factor = f_tensor1[b][d]\n",
        "        else:\n",
        "          factor = f_tensor2[b][d]\n",
        "        factor *= p_hat_a[a]\n",
        "        factor *= p_hat_c[a][b][c]\n",
        "        factor *= p_hat_e[b][e]\n",
        "        sum += factor\n",
        "\n",
        "  return sum"
      ],
      "metadata": {
        "id": "NcsWLlmWqi56"
      },
      "execution_count": 36,
      "outputs": []
    },
    {
      "cell_type": "code",
      "source": [
        "def causalexp3(T = 500, eta = None):\n",
        "  '''\n",
        "  Plays CausalEXP3 for T episodes, with 100 overall runs\n",
        "\n",
        "  INPUT:\n",
        "  T (int, >=500): number of episodes; default 500\n",
        "  eta (float, > 0): learning rate; default 1/T\n",
        "\n",
        "  OUTPUT:\n",
        "  regret: array of reget every 500 episodes, averaged over 100 runs\n",
        "  cumulative_regret: array of cumulative regret every 500 episodes, avg. over 100 runs\n",
        "  reward: array of reward every 500 episodes, avg. over 100 runs\n",
        "  '''\n",
        " \n",
        "  # initializations\n",
        "\n",
        "  if T < 500:\n",
        "    print(\"ERROR: T needs to be at least 500\")\n",
        "    return\n",
        "  if eta == None:\n",
        "    eta = 1/T\n",
        "  if eta <= 0.0:\n",
        "    print(\"ERROR: eta needs to be > 0.0\") \n",
        "  RUNS = 50\n",
        "  step = 500\n",
        "  data_points = int(T/step)+1\n",
        "  regret = np.zeros((RUNS,data_points))\n",
        "  cumulative_regret = np.zeros((RUNS,data_points))\n",
        "  reward = np.zeros((RUNS,data_points))\n",
        "\n",
        "  # main loop\n",
        "   \n",
        "  for run in tqdm(range(RUNS)):\n",
        "    W = np.ones((NO_OF_POLICIES,))\n",
        "    track_regret = 0\n",
        "    global hat_a\n",
        "    global hat_b\n",
        "    global hat_a_b\n",
        "    global hat_c\n",
        "    global p_hat_a\n",
        "    global p_hat_c\n",
        "    global hat_e\n",
        "    global p_hat_e\n",
        "    hat_a = np.array([0,0])\n",
        "    hat_b = np.array([[0,0]])\n",
        "    hat_a_b = np.array([[0,0],\n",
        "                        [0,0]])\n",
        "    hat_c = np.array( [[[0,0],[0,0]],\n",
        "                       [[0,0],[0,0]]] )\n",
        "    hat_e = np.array([[0,0],\n",
        "                      [0,0]])\n",
        "\n",
        "\n",
        "    for t in range(T):\n",
        "      # normalize weights\n",
        "      P = W/W.sum()\n",
        "\n",
        "      # sample a policy\n",
        "      pi_t = np.random.multinomial(1,P) @ np.arange(NO_OF_POLICIES)\n",
        "\n",
        "      # play policy arm on DTR\n",
        "      if t < int(T/2):\n",
        "        a,b,c,d,e,f = rehab_dtr1(pi_t)\n",
        "      else:\n",
        "        a,b,c,d,e,f = rehab_dtr2(pi_t)\n",
        "\n",
        "      # update estimates\n",
        "      update(a=a,b=b,c=c,e=e,t=t)\n",
        "\n",
        "      # weight updates\n",
        "      for pi in range(NO_OF_POLICIES):\n",
        "        loss = estimate_loss(pi,t,T)\n",
        "        loss = 1-loss\n",
        "        loss_unbiased = loss/P[pi]\n",
        "        W[pi] = W[pi]*np.exp(-eta*loss_unbiased)\n",
        "\n",
        "      # tracking reward\n",
        "      track_regret = track_regret + 0.7211 - f\n",
        "      # print(t)\n",
        "      if int(t%step) == 0:\n",
        "        regret[run][int(t/step)]             = 0.7211 - f\n",
        "        cumulative_regret[run][int(t/step)]  = track_regret\n",
        "        reward[run][int(t/step)]             = f\n",
        "\n",
        "  return regret, cumulative_regret, reward"
      ],
      "metadata": {
        "id": "kWXtrSBu86ml"
      },
      "execution_count": 37,
      "outputs": []
    },
    {
      "cell_type": "code",
      "source": [
        "regret2, cumulative_regret2, reward2 = causalexp3(T=10001)"
      ],
      "metadata": {
        "colab": {
          "base_uri": "https://localhost:8080/"
        },
        "id": "XAIC21FnRV__",
        "outputId": "6ba4ae7f-9f50-424b-efad-eeae508e45d3"
      },
      "execution_count": 38,
      "outputs": [
        {
          "output_type": "stream",
          "name": "stderr",
          "text": [
            "\r  0%|          | 0/50 [00:00<?, ?it/s]/usr/local/lib/python3.7/dist-packages/ipykernel_launcher.py:74: RuntimeWarning: divide by zero encountered in double_scalars\n",
            "/usr/local/lib/python3.7/dist-packages/ipykernel_launcher.py:74: RuntimeWarning: overflow encountered in double_scalars\n",
            "100%|██████████| 50/50 [1:14:41<00:00, 89.63s/it]\n"
          ]
        }
      ]
    },
    {
      "cell_type": "markdown",
      "source": [
        "## Plots"
      ],
      "metadata": {
        "id": "6_5s4aXP9FeM"
      }
    },
    {
      "cell_type": "code",
      "source": [
        "# Cumulative Regret\n",
        "\n",
        "T = 10001\n",
        "\n",
        "# line 1 points\n",
        "x1 = np.arange(T, step=500)\n",
        "y1 = np.average(cumulative_regret1,axis=0)\n",
        "# plotting the line 1 points\n",
        "plt.plot(x1, y1, label = \"Naive EXP3\")\n",
        " \n",
        "# line 2 points\n",
        "x2 = x1\n",
        "y2 = np.average(cumulative_regret2,axis=0)\n",
        "# plotting the line 2 points\n",
        "plt.plot(x2, y2, label = \"CausalEXP3\")\n",
        " \n",
        "# naming the x axis\n",
        "plt.xlabel('Episodes')\n",
        "# naming the y axis\n",
        "plt.ylabel('Cumulative Regret')\n",
        "# giving a title to my graph\n",
        "plt.title('Cumulative Regret avg. over 50 runs')\n",
        " \n",
        "# show a legend on the plot\n",
        "plt.legend()\n",
        " \n",
        "# function to show the plot\n",
        "plt.show()"
      ],
      "metadata": {
        "id": "u3GERfpmKPBd",
        "colab": {
          "base_uri": "https://localhost:8080/",
          "height": 295
        },
        "outputId": "211a8ab3-1eae-4a19-e8e3-c58fe50b5cdf"
      },
      "execution_count": 46,
      "outputs": [
        {
          "output_type": "display_data",
          "data": {
            "text/plain": [
              "<Figure size 432x288 with 1 Axes>"
            ],
            "image/png": "[encoded data removed]"
          },
          "metadata": {
            "needs_background": "light"
          }
        }
      ]
    },
    {
      "cell_type": "code",
      "source": [
        "# Instantaneous Reward for Naive EXP3\n",
        "\n",
        "T = 10001\n",
        "\n",
        "# line 1 points\n",
        "x1 = np.arange(T, step=500)\n",
        "y1 = np.average(reward1,axis=0)\n",
        "# plotting the line 1 points\n",
        "plt.plot(x1, y1, label = \"Instantaneous Reward\")\n",
        "# plt.scatter(x1, y1)\n",
        "halfway = int(T/1000) + 1\n",
        "x1_first = x1[:halfway]\n",
        "x1_second = x1[halfway:]\n",
        "y1_first = y1[:halfway]\n",
        "y1_second = y1[halfway:]\n",
        "m, b = np.polyfit(x1_first, y1_first, 1)\n",
        "plt.plot(x1_first, m*x1_first+b, label = \"Regression: 1st half\", linestyle='dashed')\n",
        "m, b = np.polyfit(x1_second, y1_second, 1)\n",
        "plt.plot(x1_second, m*x1_second+b, label = \"Regression: 2nd half\", linestyle='dashed')\n",
        "\n",
        "\n",
        "# naming the x axis\n",
        "plt.xlabel('Episodes')\n",
        "# naming the y axis\n",
        "plt.ylabel('Instantaneous Reward')\n",
        "# giving a title to my graph\n",
        "plt.title('Reward for Naive EXP3, avg. over 50 runs')\n",
        " \n",
        "# show a legend on the plot\n",
        "plt.legend()\n",
        " \n",
        "# function to show the plot\n",
        "plt.show()"
      ],
      "metadata": {
        "colab": {
          "base_uri": "https://localhost:8080/",
          "height": 295
        },
        "id": "QDKZlUxg_L7G",
        "outputId": "14eccd61-1280-48f0-e6b3-4e0f44602720"
      },
      "execution_count": 47,
      "outputs": [
        {
          "output_type": "display_data",
          "data": {
            "text/plain": [
              "<Figure size 432x288 with 1 Axes>"
            ],
            "image/png": "[encoded data removed]"
          },
          "metadata": {
            "needs_background": "light"
          }
        }
      ]
    },
    {
      "cell_type": "code",
      "source": [
        "# Instantaneous Reward for CausalEXP3\n",
        "\n",
        "T = 10001\n",
        "\n",
        "# line 1 points\n",
        "x1 = np.arange(T, step=500)\n",
        "y1 = np.average(reward2,axis=0)\n",
        "# plotting the line 1 points\n",
        "plt.plot(x1, y1, label = \"Instantaneous Reward\")\n",
        "# plt.scatter(x1, y1)\n",
        "halfway = int(T/1000) + 1\n",
        "x1_first = x1[:halfway]\n",
        "x1_second = x1[halfway:]\n",
        "y1_first = y1[:halfway]\n",
        "y1_second = y1[halfway:]\n",
        "m, b = np.polyfit(x1_first, y1_first, 1)\n",
        "plt.plot(x1_first, m*x1_first+b, label = \"Regression: 1st half\", linestyle='dashed')\n",
        "m, b = np.polyfit(x1_second, y1_second, 1)\n",
        "plt.plot(x1_second, m*x1_second+b, label = \"Regression: 2nd half\", linestyle='dashed')\n",
        "\n",
        "\n",
        "# naming the x axis\n",
        "plt.xlabel('Episodes')\n",
        "# naming the y axis\n",
        "plt.ylabel('Instantaneous Reward')\n",
        "# giving a title to my graph\n",
        "plt.title('Reward for CausalEXP3, avg. over 50 runs')\n",
        " \n",
        "# show a legend on the plot\n",
        "plt.legend()\n",
        " \n",
        "# function to show the plot\n",
        "plt.show()"
      ],
      "metadata": {
        "colab": {
          "base_uri": "https://localhost:8080/",
          "height": 295
        },
        "id": "uPIJWAoV_xlU",
        "outputId": "334640f4-b969-4535-c49d-2e0547807ef6"
      },
      "execution_count": 45,
      "outputs": [
        {
          "output_type": "display_data",
          "data": {
            "text/plain": [
              "<Figure size 432x288 with 1 Axes>"
            ],
            "image/png": "[encoded data removed]"
          },
          "metadata": {
            "needs_background": "light"
          }
        }
      ]
    },
    {
      "cell_type": "markdown",
      "source": [
        "## Probability Generation"
      ],
      "metadata": {
        "id": "ZM6_KBcvmNp8"
      }
    },
    {
      "cell_type": "code",
      "source": [
        "vals = 0.8*np.random.random_sample(23) + 0.1\n",
        "for i in range(23):\n",
        "  num = round(vals[i],4)\n",
        "  vals[i] = num\n",
        "\n",
        "vals"
      ],
      "metadata": {
        "id": "tiYee_Z6Sdyg",
        "colab": {
          "base_uri": "https://localhost:8080/"
        },
        "outputId": "12a392a6-bcfb-4280-f214-facbee827c62"
      },
      "execution_count": 13,
      "outputs": [
        {
          "output_type": "execute_result",
          "data": {
            "text/plain": [
              "array([0.7341, 0.7231, 0.1903, 0.4357, 0.2378, 0.7603, 0.5035, 0.7008,\n",
              "       0.6466, 0.6593, 0.4147, 0.6767, 0.1747, 0.2991, 0.8065, 0.2696,\n",
              "       0.6865, 0.5315, 0.4102, 0.3952, 0.685 , 0.5807, 0.8256])"
            ]
          },
          "metadata": {},
          "execution_count": 13
        }
      ]
    },
    {
      "cell_type": "code",
      "source": [
        "1-0.7341"
      ],
      "metadata": {
        "colab": {
          "base_uri": "https://localhost:8080/"
        },
        "id": "FEDfy5b8nMd9",
        "outputId": "4d5b7411-88d8-49b4-a83b-ccded4bbda8f"
      },
      "execution_count": 14,
      "outputs": [
        {
          "output_type": "execute_result",
          "data": {
            "text/plain": [
              "0.2659"
            ]
          },
          "metadata": {},
          "execution_count": 14
        }
      ]
    },
    {
      "cell_type": "code",
      "source": [
        ""
      ],
      "metadata": {
        "id": "NvhCP6jOnugI"
      },
      "execution_count": null,
      "outputs": []
    }
  ]
}