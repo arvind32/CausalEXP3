{
  "nbformat": 4,
  "nbformat_minor": 0,
  "metadata": {
    "colab": {
      "name": "Cancer_DTR.ipynb",
      "provenance": []
    },
    "kernelspec": {
      "name": "python3",
      "display_name": "Python 3"
    },
    "language_info": {
      "name": "python"
    },
    "accelerator": "TPU"
  },
  "cells": [
    {
      "cell_type": "code",
      "execution_count": null,
      "metadata": {
        "id": "NOecCKvETf8z"
      },
      "outputs": [],
      "source": [
        "from tqdm import tqdm\n",
        "import numpy as np\n",
        "from scipy.stats import bernoulli\n",
        "import matplotlib.pyplot as plt"
      ]
    },
    {
      "cell_type": "markdown",
      "source": [
        "###SCM of the Cancer DTR under policy intervention"
      ],
      "metadata": {
        "id": "ClDK9LZ1Trtf"
      }
    },
    {
      "cell_type": "code",
      "source": [
        "# global policy mapping tensors\n",
        "\n",
        "NO_OF_POLICIES = (2**2) * (2**(2*3))\n",
        "\n",
        "h_tensor = np.array([[0,0],\n",
        "                     [0,1],\n",
        "                     [1,0],\n",
        "                     [1,1]])\n",
        "\n",
        "i_tensor = np.zeros((64,2,3))\n",
        "for pol in range(64):\n",
        "  temp = pol\n",
        "  digits = np.zeros((6,))\n",
        "  for i in range(6):\n",
        "    digits[5-i] = temp%2\n",
        "    temp = int(temp/2)\n",
        "  digits = np.reshape(digits,newshape=(2,3))\n",
        "  i_tensor[pol] = digits\n",
        "\n",
        "# global transition probabilities\n",
        "\n",
        "f_tensor = np.array([[[0.3559, 0.4546, 0.2677],[0.5406, 0.3854, 0.6974]],\n",
        "                     [[0.3759, 0.3707, 0.3845],[0.5919, 0.6303, 0.5276]]])\n",
        "\n",
        "\n",
        "def cancer_dtr(pi = None):\n",
        "  '''\n",
        "  Runs an instance of the cancer DTR, under intervention using a policy pi\n",
        "\n",
        "  INPUT\n",
        "  pi (int, 0-255): the policy index of the intervention\n",
        "\n",
        "  OUTPUT\n",
        "  g (int, 0-1): value of G for one instance under pi\n",
        "  h (int, 0-1): value of H for one instance under pi\n",
        "  c (int, 0-2): value of C for one instance under pi\n",
        "  i (int, 0-1): value of I for one instance under pi\n",
        "  f (int, 0-1): value of F for one instance under pi\n",
        "  '''\n",
        "\n",
        "  if pi not in np.arange(NO_OF_POLICIES):\n",
        "    print(\"ERROR: pi should be an integer from 0-255\")\n",
        "    return\n",
        "  \n",
        "  # getting g\n",
        "  g = bernoulli.rvs(p=0.7454)\n",
        "\n",
        "  # mapping pi to get h\n",
        "  pi_h = int(pi/64)\n",
        "  h = h_tensor[pi_h][g]\n",
        "\n",
        "  # getting c\n",
        "  if h == 0:\n",
        "    c = np.random.multinomial(1,[0.4055,0.2904,0.3041]) @ np.array([0,1,2])\n",
        "  else:\n",
        "    c = np.random.multinomial(1,[0.3051,0.4081,0.2868]) @ np.array([0,1,2])\n",
        "\n",
        "  # mapping pi to get i\n",
        "  pi_i = pi%64\n",
        "  i = i_tensor[pi_i][g][c]\n",
        "  i = int(i)\n",
        "\n",
        "  # getting f\n",
        "  f = bernoulli.rvs(p = f_tensor[h][i][c])\n",
        "\n",
        "  return g,h,c,i,f"
      ],
      "metadata": {
        "id": "f8ZFZqJATohT"
      },
      "execution_count": null,
      "outputs": []
    },
    {
      "cell_type": "markdown",
      "source": [
        "### Naive EXP3 Algorithm"
      ],
      "metadata": {
        "id": "wEzCgX4ynanl"
      }
    },
    {
      "cell_type": "code",
      "source": [
        "def naive_exp3(T = 500, eta = None):\n",
        "  '''\n",
        "  Plays Naive EXP3 for T episodes, with 100 overall runs\n",
        "\n",
        "  INPUT:\n",
        "  T (int, >=500): number of episodes; default 500\n",
        "  eta (float, > 0): learning rate; default 1/T\n",
        "\n",
        "  OUTPUT:\n",
        "  regret: array of reget every 500 episodes, averaged over 100 runs\n",
        "  cumulative_regret: array of cumulative regret every 500 episodes, avg. over 100 runs\n",
        "  reward: array of reward every 500 episodes, avg. over 100 runs\n",
        "  '''\n",
        " \n",
        "  # initializations\n",
        "\n",
        "  if T < 500:\n",
        "    print(\"ERROR: T needs to be at least 500\")\n",
        "    return\n",
        "  if eta == None:\n",
        "    eta = 1/T\n",
        "  if eta <= 0.0:\n",
        "    print(\"ERROR: eta needs to be > 0.0\") \n",
        "  RUNS = 100\n",
        "  step = 500\n",
        "  data_points = int(T/step)+1\n",
        "  regret = np.zeros((RUNS,data_points))\n",
        "  cumulative_regret = np.zeros((RUNS,data_points))\n",
        "  reward = np.zeros((RUNS,data_points))\n",
        "\n",
        "  # main loop\n",
        "   \n",
        "  for run in tqdm(range(RUNS)):\n",
        "    W = np.ones((NO_OF_POLICIES,))\n",
        "    track_regret = 0\n",
        "\n",
        "    for t in range(T):\n",
        "      # normalize weights\n",
        "      P = W/W.sum()\n",
        "\n",
        "      # sample a policy\n",
        "      pi = np.random.multinomial(1,P) @ np.arange(NO_OF_POLICIES)\n",
        "\n",
        "      # play policy arm on DTR\n",
        "      _,_,_,_,f = cancer_dtr(pi)\n",
        "\n",
        "      # weight updates\n",
        "      loss = 1-f\n",
        "      loss_unbiased = loss/P[pi]\n",
        "      W[pi] = W[pi]*np.exp(-eta*loss_unbiased)\n",
        "\n",
        "      # tracking reward\n",
        "      track_regret = track_regret + 0.5891 - f\n",
        "      if int(t%step) == 0:\n",
        "        regret[run][int(t/step)]             = 0.5891 - f\n",
        "        cumulative_regret[run][int(t/step)]  = track_regret\n",
        "        reward[run][int(t/step)]             = f\n",
        "\n",
        "  return regret, cumulative_regret, reward"
      ],
      "metadata": {
        "id": "KAihoiBCgT-m"
      },
      "execution_count": null,
      "outputs": []
    },
    {
      "cell_type": "code",
      "source": [
        "regret1, cumulative_regret1, reward1 = naive_exp3(T=10001)"
      ],
      "metadata": {
        "colab": {
          "base_uri": "https://localhost:8080/"
        },
        "id": "GRGxKbwfxPo6",
        "outputId": "9ba6d96c-d6b1-4a2c-ed2f-8e111d7bf530"
      },
      "execution_count": null,
      "outputs": [
        {
          "output_type": "stream",
          "name": "stderr",
          "text": [
            "100%|██████████| 100/100 [03:01<00:00,  1.81s/it]\n"
          ]
        }
      ]
    },
    {
      "cell_type": "markdown",
      "source": [
        "### CausalEXP3 algorithm"
      ],
      "metadata": {
        "id": "vBdBGSerNuoH"
      }
    },
    {
      "cell_type": "code",
      "source": [
        "# estimate update function\n",
        "\n",
        "def update(g,h,c,i,f,t):\n",
        "  global hat_g\n",
        "  global hat_h\n",
        "  global hat_c \n",
        "  hat_g[g] += 1\n",
        "  hat_h[0][h] += 1\n",
        "  hat_c[h][c] += 1\n",
        "  \n",
        "  global p_hat_g\n",
        "  global p_hat_c\n",
        "  p_hat_g = hat_g/(t+1) # update P_hat(g)\n",
        "  temp = hat_h.T == 0 \n",
        "  temp = temp + hat_h.T # max{1,#h}\n",
        "  p_hat_c = hat_c/temp # update P_hat(c|do(h))\n",
        "\n",
        "\n",
        "def estimate_loss(pi):\n",
        "  sum = 0\n",
        "  for g in [0,1]: # loop over g\n",
        "    pi_h = int(pi/64)\n",
        "    h = h_tensor[pi_h][g] # get h from g\n",
        "    for c in [0,1,2]: # loop over c\n",
        "        pi_i = pi%64\n",
        "        i = i_tensor[pi_i][g][c]\n",
        "        i = int(i) # get i from g,h,c\n",
        "\n",
        "        factor = f_tensor[h][i][c]\n",
        "        factor *= p_hat_g[g]\n",
        "        factor *= p_hat_c[h][c]\n",
        "        sum += factor\n",
        "\n",
        "  return sum"
      ],
      "metadata": {
        "id": "NcsWLlmWqi56"
      },
      "execution_count": null,
      "outputs": []
    },
    {
      "cell_type": "code",
      "source": [
        "def causalexp3(T = 500, eta = None):\n",
        "  '''\n",
        "  Plays CausalEXP3 for T episodes, with 100 overall runs\n",
        "\n",
        "  INPUT:\n",
        "  T (int, >=500): number of episodes; default 500\n",
        "  eta (float, > 0): learning rate; default 1/T\n",
        "\n",
        "  OUTPUT:\n",
        "  regret: array of reget every 500 episodes, averaged over 100 runs\n",
        "  cumulative_regret: array of cumulative regret every 500 episodes, avg. over 100 runs\n",
        "  reward: array of reward every 500 episodes, avg. over 100 runs\n",
        "  '''\n",
        " \n",
        "  # initializations\n",
        "\n",
        "  if T < 500:\n",
        "    print(\"ERROR: T needs to be at least 500\")\n",
        "    return\n",
        "  if eta == None:\n",
        "    eta = 1/T\n",
        "  if eta <= 0.0:\n",
        "    print(\"ERROR: eta needs to be > 0.0\") \n",
        "  RUNS = 100\n",
        "  step = 500\n",
        "  data_points = int(T/step)+1\n",
        "  regret = np.zeros((RUNS,data_points))\n",
        "  cumulative_regret = np.zeros((RUNS,data_points))\n",
        "  reward = np.zeros((RUNS,data_points))\n",
        "\n",
        "  # main loop\n",
        "   \n",
        "  for run in tqdm(range(RUNS)):\n",
        "    W = np.ones((NO_OF_POLICIES,))\n",
        "    track_regret = 0\n",
        "    global hat_g\n",
        "    global hat_h\n",
        "    global hat_c\n",
        "    global p_hat_g\n",
        "    global p_hat_c\n",
        "    hat_g = np.array([0,0])\n",
        "    hat_h = np.array([[0,0]])\n",
        "    hat_c = np.array([[0,0,0],\n",
        "                      [0,0,0]])\n",
        "    p_hat_g = np.array([0,0])\n",
        "    p_hat_c = np.array([[0,0,0],\n",
        "                        [0,0,0]])\n",
        "\n",
        "    for t in range(T):\n",
        "      # normalize weights\n",
        "      P = W/W.sum()\n",
        "\n",
        "      # sample a policy\n",
        "      pi_t = np.random.multinomial(1,P) @ np.arange(NO_OF_POLICIES)\n",
        "\n",
        "      # play policy arm on DTR\n",
        "      g,h,c,i,f = cancer_dtr(pi_t)\n",
        "\n",
        "      # update estimates\n",
        "      update(g=g,h=h,c=c,i=i,f=f,t=t)\n",
        "\n",
        "      # weight updates\n",
        "      for pi in range(NO_OF_POLICIES):\n",
        "        loss = estimate_loss(pi)\n",
        "        loss = 1-loss\n",
        "        loss_unbiased = loss/P[pi]\n",
        "        W[pi] = W[pi]*np.exp(-eta*loss_unbiased)\n",
        "\n",
        "      # tracking reward\n",
        "      track_regret = track_regret + 0.5891 - f\n",
        "      # print(t)\n",
        "      if int(t%step) == 0:\n",
        "        regret[run][int(t/step)]             = 0.5891 - f\n",
        "        cumulative_regret[run][int(t/step)]  = track_regret\n",
        "        reward[run][int(t/step)]             = f\n",
        "\n",
        "  return regret, cumulative_regret, reward"
      ],
      "metadata": {
        "id": "kWXtrSBu86ml"
      },
      "execution_count": null,
      "outputs": []
    },
    {
      "cell_type": "code",
      "source": [
        "regret2, cumulative_regret2, reward2 = causalexp3(T=10001)"
      ],
      "metadata": {
        "colab": {
          "base_uri": "https://localhost:8080/"
        },
        "id": "XAIC21FnRV__",
        "outputId": "28f783e4-3a4e-48bb-a2e8-862d1a781e3d"
      },
      "execution_count": null,
      "outputs": [
        {
          "output_type": "stream",
          "name": "stderr",
          "text": [
            "\r  0%|          | 0/100 [00:00<?, ?it/s]/usr/local/lib/python3.7/dist-packages/ipykernel_launcher.py:66: RuntimeWarning: divide by zero encountered in double_scalars\n",
            "/usr/local/lib/python3.7/dist-packages/ipykernel_launcher.py:66: RuntimeWarning: overflow encountered in double_scalars\n",
            "100%|██████████| 100/100 [1:16:14<00:00, 45.74s/it]\n"
          ]
        }
      ]
    },
    {
      "cell_type": "markdown",
      "source": [
        "## Plots"
      ],
      "metadata": {
        "id": "6_5s4aXP9FeM"
      }
    },
    {
      "cell_type": "code",
      "source": [
        "# Cumulative Regret\n",
        "\n",
        "T = 10001\n",
        "\n",
        "# line 1 points\n",
        "x1 = np.arange(T, step=500)\n",
        "y1 = np.average(cumulative_regret1,axis=0)\n",
        "# plotting the line 1 points\n",
        "plt.plot(x1, y1, label = \"Naive EXP3\")\n",
        " \n",
        "# line 2 points\n",
        "x2 = x1\n",
        "y2 = np.average(cumulative_regret2,axis=0)\n",
        "# plotting the line 2 points\n",
        "plt.plot(x2, y2, label = \"CausalEXP3\")\n",
        " \n",
        "# naming the x axis\n",
        "plt.xlabel('Episodes')\n",
        "# naming the y axis\n",
        "plt.ylabel('Cumulative Regret')\n",
        "# giving a title to my graph\n",
        "plt.title('Cumulative Regret avg. over 100 runs')\n",
        " \n",
        "# show a legend on the plot\n",
        "plt.legend()\n",
        " \n",
        "# function to show the plot\n",
        "plt.show()"
      ],
      "metadata": {
        "id": "u3GERfpmKPBd",
        "colab": {
          "base_uri": "https://localhost:8080/",
          "height": 295
        },
        "outputId": "a2d3db6e-b259-41d8-db3f-c365f1a539ec"
      },
      "execution_count": null,
      "outputs": [
        {
          "output_type": "display_data",
          "data": {
            "text/plain": [
              "<Figure size 432x288 with 1 Axes>"
            ],
            "image/png": "[encoded data removed]"
          },
          "metadata": {
            "needs_background": "light"
          }
        }
      ]
    },
    {
      "cell_type": "code",
      "source": [
        "# Instantaneous Reward for Naive EXP3\n",
        "\n",
        "T = 10001\n",
        "\n",
        "# line 1 points\n",
        "x1 = np.arange(T, step=500)\n",
        "y1 = np.average(reward1,axis=0)\n",
        "# plotting the line 1 points\n",
        "plt.plot(x1, y1, label = \"Instantaneous Reward\")\n",
        "# plt.scatter(x1, y1)\n",
        "m, b = np.polyfit(x1, y1, 1)\n",
        "plt.plot(x1, m*x1+b, label = \"Regression\", linestyle='dashed')\n",
        "\n",
        "\n",
        "# naming the x axis\n",
        "plt.xlabel('Episodes')\n",
        "# naming the y axis\n",
        "plt.ylabel('Instantaneous Reward')\n",
        "# giving a title to my graph\n",
        "plt.title('Reward for Naive EXP3, avg. over 100 runs')\n",
        " \n",
        "# show a legend on the plot\n",
        "plt.legend()\n",
        " \n",
        "# function to show the plot\n",
        "plt.show()"
      ],
      "metadata": {
        "colab": {
          "base_uri": "https://localhost:8080/",
          "height": 295
        },
        "id": "QDKZlUxg_L7G",
        "outputId": "fb4ea11d-6ab4-4c5d-f1c2-b1bfa8f290b5"
      },
      "execution_count": null,
      "outputs": [
        {
          "output_type": "display_data",
          "data": {
            "text/plain": [
              "<Figure size 432x288 with 1 Axes>"
            ],
            "image/png": "[encoded data removed]"
          },
          "metadata": {
            "needs_background": "light"
          }
        }
      ]
    },
    {
      "cell_type": "code",
      "source": [
        "# Instantaneous Reward for CausalEXP3\n",
        "\n",
        "T = 10001\n",
        "\n",
        "# line 1 points\n",
        "x1 = np.arange(T, step=500)\n",
        "y1 = np.average(reward2,axis=0)\n",
        "# plotting the line 1 points\n",
        "plt.plot(x1, y1, label = \"Instantaneous Reward\")\n",
        "# plt.scatter(x1, y1)\n",
        "m, b = np.polyfit(x1, y1, 1)\n",
        "plt.plot(x1, m*x1+b, label = \"Regression\", linestyle='dashed')\n",
        "\n",
        "\n",
        "# naming the x axis\n",
        "plt.xlabel('Episodes')\n",
        "# naming the y axis\n",
        "plt.ylabel('Instantaneous Reward')\n",
        "# giving a title to my graph\n",
        "plt.title('Reward for CausalEXP3, avg. over 100 runs')\n",
        " \n",
        "# show a legend on the plot\n",
        "plt.legend()\n",
        " \n",
        "# function to show the plot\n",
        "plt.show()"
      ],
      "metadata": {
        "colab": {
          "base_uri": "https://localhost:8080/",
          "height": 295
        },
        "id": "uPIJWAoV_xlU",
        "outputId": "4d1afbca-b733-4f24-e519-a485a398a43f"
      },
      "execution_count": null,
      "outputs": [
        {
          "output_type": "display_data",
          "data": {
            "text/plain": [
              "<Figure size 432x288 with 1 Axes>"
            ],
            "image/png": "[encoded data removed]"
          },
          "metadata": {
            "needs_background": "light"
          }
        }
      ]
    },
    {
      "cell_type": "code",
      "source": [
        ""
      ],
      "metadata": {
        "id": "tiYee_Z6Sdyg"
      },
      "execution_count": null,
      "outputs": []
    }
  ]
}